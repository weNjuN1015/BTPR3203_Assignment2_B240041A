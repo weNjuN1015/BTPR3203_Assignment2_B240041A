{
 "cells": [
  {
   "cell_type": "markdown",
   "id": "01ff6530-6f8d-4830-8755-e2bfe517ef76",
   "metadata": {},
   "source": [
    "Task 1: Dataset Selection and Preparation (20 Marks)\n",
    "\n",
    "1. Find a suitable dataset in Kaggle. The dataset must contain at least one column with natural text (e.g., reviews, comments, descriptions) for sentiment analysis.\n",
    "2. Load the dataset as a Pandas DataFrame.\n",
    "3. Use Pandas methods to display basic information about the dataset, such as its data types, and a summary of numerical columns.\n",
    "4. Identify and handle missing values appropriately. Explain your chosen strategy (e.g., filling with a default value, dropping rows, using interpolation)."
   ]
  },
  {
   "cell_type": "code",
   "execution_count": 1,
   "id": "1c53ceb8-8c82-4b3b-9b10-6e5fd4d485e1",
   "metadata": {},
   "outputs": [
    {
     "name": "stdout",
     "output_type": "stream",
     "text": [
      "1) First 5 rows of dataset:\n",
      "           artist                    song  duration_ms  explicit  year  \\\n",
      "0  Britney Spears  Oops!...I Did It Again       211160     False  2000   \n",
      "1       blink-182    All The Small Things       167066     False  1999   \n",
      "2      Faith Hill                 Breathe       250546     False  1999   \n",
      "3        Bon Jovi            It's My Life       224493     False  2000   \n",
      "4          *NSYNC             Bye Bye Bye       200560     False  2000   \n",
      "\n",
      "   popularity  danceability  energy  key  loudness  mode  speechiness  \\\n",
      "0          77         0.751   0.834    1    -5.444     0       0.0437   \n",
      "1          79         0.434   0.897    0    -4.918     1       0.0488   \n",
      "2          66         0.529   0.496    7    -9.007     1       0.0290   \n",
      "3          78         0.551   0.913    0    -4.063     0       0.0466   \n",
      "4          65         0.614   0.928    8    -4.806     0       0.0516   \n",
      "\n",
      "   acousticness  instrumentalness  liveness  valence    tempo         genre  \n",
      "0        0.3000          0.000018    0.3550    0.894   95.053           pop  \n",
      "1        0.0103          0.000000    0.6120    0.684  148.726     rock, pop  \n",
      "2        0.1730          0.000000    0.2510    0.278  136.859  pop, country  \n",
      "3        0.0263          0.000013    0.3470    0.544  119.992   rock, metal  \n",
      "4        0.0408          0.001040    0.0845    0.879  172.656           pop   \n",
      "\n",
      "2) Dataset Info:\n",
      "<class 'pandas.core.frame.DataFrame'>\n",
      "RangeIndex: 2000 entries, 0 to 1999\n",
      "Data columns (total 18 columns):\n",
      " #   Column            Non-Null Count  Dtype  \n",
      "---  ------            --------------  -----  \n",
      " 0   artist            2000 non-null   object \n",
      " 1   song              2000 non-null   object \n",
      " 2   duration_ms       2000 non-null   int64  \n",
      " 3   explicit          2000 non-null   bool   \n",
      " 4   year              2000 non-null   int64  \n",
      " 5   popularity        2000 non-null   int64  \n",
      " 6   danceability      2000 non-null   float64\n",
      " 7   energy            2000 non-null   float64\n",
      " 8   key               2000 non-null   int64  \n",
      " 9   loudness          2000 non-null   float64\n",
      " 10  mode              2000 non-null   int64  \n",
      " 11  speechiness       2000 non-null   float64\n",
      " 12  acousticness      2000 non-null   float64\n",
      " 13  instrumentalness  2000 non-null   float64\n",
      " 14  liveness          2000 non-null   float64\n",
      " 15  valence           2000 non-null   float64\n",
      " 16  tempo             2000 non-null   float64\n",
      " 17  genre             2000 non-null   object \n",
      "dtypes: bool(1), float64(9), int64(5), object(3)\n",
      "memory usage: 267.7+ KB\n",
      "None \n",
      "\n",
      "3) Summary statistics (numerical):\n",
      "         duration_ms        year   popularity  danceability       energy  \\\n",
      "count    2000.000000  2000.00000  2000.000000   2000.000000  2000.000000   \n",
      "mean   228748.124500  2009.49400    59.872500      0.667438     0.720366   \n",
      "std     39136.569008     5.85996    21.335577      0.140416     0.152745   \n",
      "min    113000.000000  1998.00000     0.000000      0.129000     0.054900   \n",
      "25%    203580.000000  2004.00000    56.000000      0.581000     0.622000   \n",
      "50%    223279.500000  2010.00000    65.500000      0.676000     0.736000   \n",
      "75%    248133.000000  2015.00000    73.000000      0.764000     0.839000   \n",
      "max    484146.000000  2020.00000    89.000000      0.975000     0.999000   \n",
      "\n",
      "               key     loudness         mode  speechiness  acousticness  \\\n",
      "count  2000.000000  2000.000000  2000.000000  2000.000000   2000.000000   \n",
      "mean      5.378000    -5.512434     0.553500     0.103568      0.128955   \n",
      "std       3.615059     1.933482     0.497254     0.096159      0.173346   \n",
      "min       0.000000   -20.514000     0.000000     0.023200      0.000019   \n",
      "25%       2.000000    -6.490250     0.000000     0.039600      0.014000   \n",
      "50%       6.000000    -5.285000     1.000000     0.059850      0.055700   \n",
      "75%       8.000000    -4.167750     1.000000     0.129000      0.176250   \n",
      "max      11.000000    -0.276000     1.000000     0.576000      0.976000   \n",
      "\n",
      "       instrumentalness     liveness      valence        tempo  \n",
      "count       2000.000000  2000.000000  2000.000000  2000.000000  \n",
      "mean           0.015226     0.181216     0.551690   120.122558  \n",
      "std            0.087771     0.140669     0.220864    26.967112  \n",
      "min            0.000000     0.021500     0.038100    60.019000  \n",
      "25%            0.000000     0.088100     0.386750    98.985750  \n",
      "50%            0.000000     0.124000     0.557500   120.021500  \n",
      "75%            0.000068     0.241000     0.730000   134.265500  \n",
      "max            0.985000     0.853000     0.973000   210.851000   \n",
      "\n",
      "4) Missing values per column:\n",
      "artist              0\n",
      "song                0\n",
      "duration_ms         0\n",
      "explicit            0\n",
      "year                0\n",
      "popularity          0\n",
      "danceability        0\n",
      "energy              0\n",
      "key                 0\n",
      "loudness            0\n",
      "mode                0\n",
      "speechiness         0\n",
      "acousticness        0\n",
      "instrumentalness    0\n",
      "liveness            0\n",
      "valence             0\n",
      "tempo               0\n",
      "genre               0\n",
      "dtype: int64 \n",
      "\n",
      "5) Missing values after cleaning:\n",
      "artist              0\n",
      "song                0\n",
      "duration_ms         0\n",
      "explicit            0\n",
      "year                0\n",
      "popularity          0\n",
      "danceability        0\n",
      "energy              0\n",
      "key                 0\n",
      "loudness            0\n",
      "mode                0\n",
      "speechiness         0\n",
      "acousticness        0\n",
      "instrumentalness    0\n",
      "liveness            0\n",
      "valence             0\n",
      "tempo               0\n",
      "genre               0\n",
      "dtype: int64 \n",
      "\n",
      "✅ Task 1 complete. Cleaned dataset is ready for analysis.\n"
     ]
    }
   ],
   "source": [
    "# -------------------------------\n",
    "# Task 1: Dataset Selection & Preparation\n",
    "# -------------------------------\n",
    "\n",
    "import pandas as pd\n",
    "\n",
    "# 1) Load dataset\n",
    "file_path = r\"C:\\Users\\User\\songs_normalize.csv\"\n",
    "df = pd.read_csv(file_path)\n",
    "\n",
    "# 2) Display first few rows\n",
    "print(\"1) First 5 rows of dataset:\")\n",
    "print(df.head(), \"\\n\")\n",
    "\n",
    "# 3) Basic info about dataset\n",
    "print(\"2) Dataset Info:\")\n",
    "print(df.info(), \"\\n\")\n",
    "\n",
    "# Summary statistics for numerical columns\n",
    "print(\"3) Summary statistics (numerical):\")\n",
    "print(df.describe(), \"\\n\")\n",
    "\n",
    "# 4) Check missing values\n",
    "print(\"4) Missing values per column:\")\n",
    "print(df.isnull().sum(), \"\\n\")\n",
    "\n",
    "# ----- Handling Missing Values -----\n",
    "# Drop rows where 'song' or 'artist' is missing (needed for NLP later)\n",
    "df = df.dropna(subset=[\"song\", \"artist\"])\n",
    "\n",
    "# Fill missing numerical values with median (robust to outliers)\n",
    "num_cols = df.select_dtypes(include=[\"float64\", \"int64\"]).columns\n",
    "df[num_cols] = df[num_cols].fillna(df[num_cols].median())\n",
    "\n",
    "# Fill missing categorical values with \"Unknown\"\n",
    "cat_cols = df.select_dtypes(include=[\"object\"]).columns\n",
    "df[cat_cols] = df[cat_cols].fillna(\"Unknown\")\n",
    "\n",
    "# Verify cleaning\n",
    "print(\"5) Missing values after cleaning:\")\n",
    "print(df.isnull().sum(), \"\\n\")\n",
    "\n",
    "print(\"✅ Task 1 complete. Cleaned dataset is ready for analysis.\")\n"
   ]
  },
  {
   "cell_type": "markdown",
   "id": "69a7c933-415b-426d-89ed-862d524ce36b",
   "metadata": {},
   "source": [
    "Task 2: Data Aggregation and Analysis (20 Marks)\n",
    "\n",
    "1. Analyse the trends in the dataset by performing at least FIVE (5) aggregations on the dataset.\n",
    "2. Explain why you chose these aggregations and what insights you hoped to discover."
   ]
  },
  {
   "cell_type": "code",
   "execution_count": 2,
   "id": "617561e0-4f26-4b5f-8d1e-e5740b5f3a77",
   "metadata": {},
   "outputs": [
    {
     "name": "stdout",
     "output_type": "stream",
     "text": [
      "1) Average Song Duration per Year:\n",
      "    year    duration_ms\n",
      "1  1998  215466.000000\n",
      "2  1999  253384.631579\n",
      "3  2000  249993.067568\n",
      "4  2001  242450.064815\n",
      "5  2002  253549.077778 \n",
      "\n",
      "2) Top 10 Most Frequent Artists:\n",
      "             artist  count\n",
      "1          Rihanna     25\n",
      "2            Drake     23\n",
      "3           Eminem     21\n",
      "4    Calvin Harris     20\n",
      "5   Britney Spears     19\n",
      "6     David Guetta     18\n",
      "7      Chris Brown     17\n",
      "8       Kanye West     17\n",
      "9          Beyoncé     16\n",
      "10    Taylor Swift     16 \n",
      "\n",
      "3) Average Popularity per Year:\n",
      "    year  popularity\n",
      "1  1998   49.000000\n",
      "2  1999   64.921053\n",
      "3  2000   58.554054\n",
      "4  2001   59.407407\n",
      "5  2002   62.400000 \n",
      "\n",
      "4) Distribution of Songs by Genre:\n",
      "                    genre  count\n",
      "1                    pop    428\n",
      "2           hip hop, pop    277\n",
      "3      hip hop, pop, R&B    244\n",
      "4  pop, Dance/Electronic    221\n",
      "5               pop, R&B    178 \n",
      "\n",
      "5) Average Tempo per Year:\n",
      "    year       tempo\n",
      "1  1998   81.125000\n",
      "2  1999  122.705000\n",
      "3  2000  112.927041\n",
      "4  2001  117.487074\n",
      "5  2002  113.280911 \n",
      "\n",
      "6) Top 10 Most Danceable Songs:\n",
      "                              song             artist  danceability\n",
      "1                   Give It To Me          Timbaland         0.975\n",
      "2                        Trick Me              Kelis         0.970\n",
      "3         4 My People (feat. Eve)      Missy Elliott         0.969\n",
      "4      SexyBack (feat. Timbaland)  Justin Timberlake         0.967\n",
      "5                        Anaconda        Nicki Minaj         0.964\n",
      "6   Get Up (feat. Chamillionaire)              Ciara         0.964\n",
      "7                      Yes Indeed           Lil Baby         0.963\n",
      "8                      Shake That             Eminem         0.963\n",
      "9                 Push The Button          Sugababes         0.962\n",
      "10                   Hot In Herre              Nelly         0.956 \n",
      "\n"
     ]
    }
   ],
   "source": [
    "# -------------------------------\n",
    "# Task 2: Data Aggregation & Analysis (with numbering)\n",
    "# -------------------------------\n",
    "\n",
    "import pandas as pd\n",
    "\n",
    "\n",
    "# 1) Average song duration per year\n",
    "avg_duration_per_year = df.groupby(\"year\")[\"duration_ms\"].mean().reset_index()\n",
    "avg_duration_per_year.index = avg_duration_per_year.index + 1  # start index at 1\n",
    "print(\"1) Average Song Duration per Year:\\n\", avg_duration_per_year.head(), \"\\n\")\n",
    "\n",
    "# 2) Most frequent artists (top 10 by number of songs in dataset)\n",
    "top_artists = df[\"artist\"].value_counts().head(10).reset_index()\n",
    "top_artists.columns = [\"artist\", \"count\"]\n",
    "top_artists.index = top_artists.index + 1\n",
    "print(\"2) Top 10 Most Frequent Artists:\\n\", top_artists, \"\\n\")\n",
    "\n",
    "# 3) Average popularity score per year\n",
    "avg_popularity_year = df.groupby(\"year\")[\"popularity\"].mean().reset_index()\n",
    "avg_popularity_year.index = avg_popularity_year.index + 1\n",
    "print(\"3) Average Popularity per Year:\\n\", avg_popularity_year.head(), \"\\n\")\n",
    "\n",
    "# 4) Distribution of songs by genre\n",
    "songs_per_genre = df[\"genre\"].value_counts().reset_index()\n",
    "songs_per_genre.columns = [\"genre\", \"count\"]\n",
    "songs_per_genre.index = songs_per_genre.index + 1\n",
    "print(\"4) Distribution of Songs by Genre:\\n\", songs_per_genre.head(), \"\\n\")\n",
    "\n",
    "# 5) Average tempo by year\n",
    "avg_tempo_year = df.groupby(\"year\")[\"tempo\"].mean().reset_index()\n",
    "avg_tempo_year.index = avg_tempo_year.index + 1\n",
    "print(\"5) Average Tempo per Year:\\n\", avg_tempo_year.head(), \"\\n\")\n",
    "\n",
    "# 6) Bonus: Top 10 most danceable songs\n",
    "top_danceable = df.sort_values(by=\"danceability\", ascending=False)[[\"song\", \"artist\", \"danceability\"]].head(10)\n",
    "top_danceable = top_danceable.reset_index(drop=True)\n",
    "top_danceable.index = top_danceable.index + 1\n",
    "print(\"6) Top 10 Most Danceable Songs:\\n\", top_danceable, \"\\n\")\n"
   ]
  },
  {
   "cell_type": "markdown",
   "id": "bd077852-5aad-4b7f-855b-3c26d4af23d5",
   "metadata": {},
   "source": [
    "Task 3: Sentiment Analysis with Hugging Face (30 Marks)\n",
    "\n",
    "1. Use the transformers library to instantiate a sentiment analysis pipeline. You can use the nlptown/bert-base-multilingual-uncased-sentiment model or another suitable model from the Hugging Face Hub.\n",
    "2. Iterate through the designated text column and use the pipeline to predict a sentiment score for each entry.\n",
    "3. Create a new column in your DataFrame to store these sentiment scores. Use this new column to find and display the top 5 entries with the highest sentiment score and the bottom 5 with the lowest."
   ]
  },
  {
   "cell_type": "code",
   "execution_count": 11,
   "id": "5f0c950f-f53b-47e9-97c7-2e0abbeee060",
   "metadata": {},
   "outputs": [
    {
     "name": "stderr",
     "output_type": "stream",
     "text": [
      "Device set to use cpu\n",
      "Processing songs: 100%|██████████| 2000/2000 [01:46<00:00, 18.79song/s]"
     ]
    },
    {
     "name": "stdout",
     "output_type": "stream",
     "text": [
      "\n",
      "✅ Top 5 Positive Songs:\n"
     ]
    },
    {
     "name": "stderr",
     "output_type": "stream",
     "text": [
      "\n"
     ]
    },
    {
     "data": {
      "text/html": [
       "<div>\n",
       "<style scoped>\n",
       "    .dataframe tbody tr th:only-of-type {\n",
       "        vertical-align: middle;\n",
       "    }\n",
       "\n",
       "    .dataframe tbody tr th {\n",
       "        vertical-align: top;\n",
       "    }\n",
       "\n",
       "    .dataframe thead th {\n",
       "        text-align: right;\n",
       "    }\n",
       "</style>\n",
       "<table border=\"1\" class=\"dataframe\">\n",
       "  <thead>\n",
       "    <tr style=\"text-align: right;\">\n",
       "      <th></th>\n",
       "      <th>artist</th>\n",
       "      <th>song</th>\n",
       "      <th>sentiment_score</th>\n",
       "    </tr>\n",
       "  </thead>\n",
       "  <tbody>\n",
       "    <tr>\n",
       "      <th>2</th>\n",
       "      <td>Faith Hill</td>\n",
       "      <td>Breathe</td>\n",
       "      <td>5</td>\n",
       "    </tr>\n",
       "    <tr>\n",
       "      <th>3</th>\n",
       "      <td>Bon Jovi</td>\n",
       "      <td>It's My Life</td>\n",
       "      <td>5</td>\n",
       "    </tr>\n",
       "    <tr>\n",
       "      <th>4</th>\n",
       "      <td>*NSYNC</td>\n",
       "      <td>Bye Bye Bye</td>\n",
       "      <td>5</td>\n",
       "    </tr>\n",
       "    <tr>\n",
       "      <th>6</th>\n",
       "      <td>Eminem</td>\n",
       "      <td>The Real Slim Shady</td>\n",
       "      <td>5</td>\n",
       "    </tr>\n",
       "    <tr>\n",
       "      <th>7</th>\n",
       "      <td>Robbie Williams</td>\n",
       "      <td>Rock DJ</td>\n",
       "      <td>5</td>\n",
       "    </tr>\n",
       "  </tbody>\n",
       "</table>\n",
       "</div>"
      ],
      "text/plain": [
       "            artist                 song  sentiment_score\n",
       "2       Faith Hill              Breathe                5\n",
       "3         Bon Jovi         It's My Life                5\n",
       "4           *NSYNC          Bye Bye Bye                5\n",
       "6           Eminem  The Real Slim Shady                5\n",
       "7  Robbie Williams              Rock DJ                5"
      ]
     },
     "metadata": {},
     "output_type": "display_data"
    },
    {
     "name": "stdout",
     "output_type": "stream",
     "text": [
      "\n",
      "❌ Bottom 5 Negative Songs:\n"
     ]
    },
    {
     "data": {
      "text/html": [
       "<div>\n",
       "<style scoped>\n",
       "    .dataframe tbody tr th:only-of-type {\n",
       "        vertical-align: middle;\n",
       "    }\n",
       "\n",
       "    .dataframe tbody tr th {\n",
       "        vertical-align: top;\n",
       "    }\n",
       "\n",
       "    .dataframe thead th {\n",
       "        text-align: right;\n",
       "    }\n",
       "</style>\n",
       "<table border=\"1\" class=\"dataframe\">\n",
       "  <thead>\n",
       "    <tr style=\"text-align: right;\">\n",
       "      <th></th>\n",
       "      <th>artist</th>\n",
       "      <th>song</th>\n",
       "      <th>sentiment_score</th>\n",
       "    </tr>\n",
       "  </thead>\n",
       "  <tbody>\n",
       "    <tr>\n",
       "      <th>14</th>\n",
       "      <td>Melanie C</td>\n",
       "      <td>Never Be The Same Again</td>\n",
       "      <td>1</td>\n",
       "    </tr>\n",
       "    <tr>\n",
       "      <th>21</th>\n",
       "      <td>Tom Jones</td>\n",
       "      <td>Sexbomb</td>\n",
       "      <td>1</td>\n",
       "    </tr>\n",
       "    <tr>\n",
       "      <th>24</th>\n",
       "      <td>Melanie C</td>\n",
       "      <td>I Turn To You</td>\n",
       "      <td>1</td>\n",
       "    </tr>\n",
       "    <tr>\n",
       "      <th>26</th>\n",
       "      <td>Darude</td>\n",
       "      <td>Sandstorm</td>\n",
       "      <td>1</td>\n",
       "    </tr>\n",
       "    <tr>\n",
       "      <th>41</th>\n",
       "      <td>Toni Braxton</td>\n",
       "      <td>He Wasn't Man Enough</td>\n",
       "      <td>1</td>\n",
       "    </tr>\n",
       "  </tbody>\n",
       "</table>\n",
       "</div>"
      ],
      "text/plain": [
       "          artist                     song  sentiment_score\n",
       "14     Melanie C  Never Be The Same Again                1\n",
       "21     Tom Jones                  Sexbomb                1\n",
       "24     Melanie C            I Turn To You                1\n",
       "26        Darude                Sandstorm                1\n",
       "41  Toni Braxton     He Wasn't Man Enough                1"
      ]
     },
     "metadata": {},
     "output_type": "display_data"
    }
   ],
   "source": [
    "import pandas as pd\n",
    "from transformers import pipeline\n",
    "from tqdm import tqdm\n",
    "from IPython.display import display\n",
    "\n",
    "# Load dataset\n",
    "df = pd.read_csv(\"songs_normalize.csv\")\n",
    "\n",
    "# 1. Instantiate sentiment analysis pipeline (use GPU if available)\n",
    "sentiment_pipeline = pipeline(\n",
    "    \"sentiment-analysis\",\n",
    "    model=\"nlptown/bert-base-multilingual-uncased-sentiment\",\n",
    "    device=0   # GPU = 0, CPU = -1\n",
    ")\n",
    "\n",
    "# 2. Apply sentiment analysis with progress bar\n",
    "results = []\n",
    "for song in tqdm(df[\"song\"].tolist(), desc=\"Processing songs\", unit=\"song\"):\n",
    "    results.append(sentiment_pipeline(song)[0])\n",
    "\n",
    "# 3. Extract numeric sentiment scores (1–5 stars)\n",
    "df[\"sentiment_score\"] = [int(r[\"label\"].split()[0]) for r in results]\n",
    "\n",
    "# 4. Save updated dataset for Task 4\n",
    "df.to_csv(\"songs_with_sentiment.csv\", index=False)\n",
    "\n",
    "# 5. Show top 5 positive and bottom 5 negative entries as DataFrames\n",
    "top5 = df.nlargest(5, \"sentiment_score\")[[\"artist\", \"song\", \"sentiment_score\"]]\n",
    "bottom5 = df.nsmallest(5, \"sentiment_score\")[[\"artist\", \"song\", \"sentiment_score\"]]\n",
    "\n",
    "print(\"\\n✅ Top 5 Positive Songs:\")\n",
    "display(top5)\n",
    "\n",
    "print(\"\\n❌ Bottom 5 Negative Songs:\")\n",
    "display(bottom5)\n"
   ]
  },
  {
   "cell_type": "markdown",
   "id": "a25648bd-dc5c-4873-a320-d70ca8458b63",
   "metadata": {},
   "source": [
    "Task 4: Interactive Visualisation with Plotly (20 Marks)\n",
    "\n",
    "1. Design and create at least THREE (3) stunning, interactive visualizations using the Plotly library.\n",
    "2. The visualizations should represent your findings from Task 2 and Task 3\n",
    "3. Provide a brief interpretation for each visualization, explaining what the plot reveals about the data."
   ]
  },
  {
   "cell_type": "code",
   "execution_count": 20,
   "id": "0de0f009-7270-4c78-b511-9fa39da007e4",
   "metadata": {},
   "outputs": [
    {
     "data": {
      "image/png": "[encoded data removed]",
      "text/plain": [
       "<Figure size 1000x500 with 1 Axes>"
      ]
     },
     "metadata": {},
     "output_type": "display_data"
    },
    {
     "data": {
      "image/png": "[encoded data removed]",
      "text/plain": [
       "<Figure size 1000x800 with 2 Axes>"
      ]
     },
     "metadata": {},
     "output_type": "display_data"
    },
    {
     "data": {
      "application/vnd.plotly.v1+json": {
       "config": {
        "plotlyServerURL": "https://plot.ly"
       },
       "data": [
        {
         "hovertemplate": "year=%{x}<br>sentiment_score=%{y}<extra></extra>",
         "legendgroup": "",
         "line": {
          "color": "#636efa",
          "dash": "solid"
         },
         "marker": {
          "symbol": "circle"
         },
         "mode": "lines+markers",
         "name": "",
         "orientation": "v",
         "showlegend": false,
         "type": "scatter",
         "x": [
          1998,
          1999,
          2000,
          2001,
          2002,
          2003,
          2004,
          2005,
          2006,
          2007,
          2008,
          2009,
          2010,
          2011,
          2012,
          2013,
          2014,
          2015,
          2016,
          2017,
          2018,
          2019,
          2020
         ],
         "xaxis": "x",
         "y": [
          5,
          3.6842105263157894,
          3.8378378378378377,
          3.824074074074074,
          3.9555555555555557,
          3.597938144329897,
          3.5104166666666665,
          3.855769230769231,
          3.9157894736842107,
          3.7872340425531914,
          3.7628865979381443,
          3.869047619047619,
          3.691588785046729,
          4.111111111111111,
          4.060869565217391,
          3.595505617977528,
          3.730769230769231,
          4.05050505050505,
          4.08080808080808,
          3.720720720720721,
          3.9906542056074765,
          3.9213483146067416,
          4.666666666666667
         ],
         "yaxis": "y"
        }
       ],
       "layout": {
        "autosize": true,
        "legend": {
         "tracegroupgap": 0
        },
        "template": {
         "data": {
          "bar": [
           {
            "error_x": {
             "color": "#2a3f5f"
            },
            "error_y": {
             "color": "#2a3f5f"
            },
            "marker": {
             "line": {
              "color": "#E5ECF6",
              "width": 0.5
             },
             "pattern": {
              "fillmode": "overlay",
              "size": 10,
              "solidity": 0.2
             }
            },
            "type": "bar"
           }
          ],
          "barpolar": [
           {
            "marker": {
             "line": {
              "color": "#E5ECF6",
              "width": 0.5
             },
             "pattern": {
              "fillmode": "overlay",
              "size": 10,
              "solidity": 0.2
             }
            },
            "type": "barpolar"
           }
          ],
          "carpet": [
           {
            "aaxis": {
             "endlinecolor": "#2a3f5f",
             "gridcolor": "white",
             "linecolor": "white",
             "minorgridcolor": "white",
             "startlinecolor": "#2a3f5f"
            },
            "baxis": {
             "endlinecolor": "#2a3f5f",
             "gridcolor": "white",
             "linecolor": "white",
             "minorgridcolor": "white",
             "startlinecolor": "#2a3f5f"
            },
            "type": "carpet"
           }
          ],
          "choropleth": [
           {
            "colorbar": {
             "outlinewidth": 0,
             "ticks": ""
            },
            "type": "choropleth"
           }
          ],
          "contour": [
           {
            "colorbar": {
             "outlinewidth": 0,
             "ticks": ""
            },
            "colorscale": [
             [
              0,
              "#0d0887"
             ],
             [
              0.1111111111111111,
              "#46039f"
             ],
             [
              0.2222222222222222,
              "#7201a8"
             ],
             [
              0.3333333333333333,
              "#9c179e"
             ],
             [
              0.4444444444444444,
              "#bd3786"
             ],
             [
              0.5555555555555556,
              "#d8576b"
             ],
             [
              0.6666666666666666,
              "#ed7953"
             ],
             [
              0.7777777777777778,
              "#fb9f3a"
             ],
             [
              0.8888888888888888,
              "#fdca26"
             ],
             [
              1,
              "#f0f921"
             ]
            ],
            "type": "contour"
           }
          ],
          "contourcarpet": [
           {
            "colorbar": {
             "outlinewidth": 0,
             "ticks": ""
            },
            "type": "contourcarpet"
           }
          ],
          "heatmap": [
           {
            "colorbar": {
             "outlinewidth": 0,
             "ticks": ""
            },
            "colorscale": [
             [
              0,
              "#0d0887"
             ],
             [
              0.1111111111111111,
              "#46039f"
             ],
             [
              0.2222222222222222,
              "#7201a8"
             ],
             [
              0.3333333333333333,
              "#9c179e"
             ],
             [
              0.4444444444444444,
              "#bd3786"
             ],
             [
              0.5555555555555556,
              "#d8576b"
             ],
             [
              0.6666666666666666,
              "#ed7953"
             ],
             [
              0.7777777777777778,
              "#fb9f3a"
             ],
             [
              0.8888888888888888,
              "#fdca26"
             ],
             [
              1,
              "#f0f921"
             ]
            ],
            "type": "heatmap"
           }
          ],
          "heatmapgl": [
           {
            "colorbar": {
             "outlinewidth": 0,
             "ticks": ""
            },
            "colorscale": [
             [
              0,
              "#0d0887"
             ],
             [
              0.1111111111111111,
              "#46039f"
             ],
             [
              0.2222222222222222,
              "#7201a8"
             ],
             [
              0.3333333333333333,
              "#9c179e"
             ],
             [
              0.4444444444444444,
              "#bd3786"
             ],
             [
              0.5555555555555556,
              "#d8576b"
             ],
             [
              0.6666666666666666,
              "#ed7953"
             ],
             [
              0.7777777777777778,
              "#fb9f3a"
             ],
             [
              0.8888888888888888,
              "#fdca26"
             ],
             [
              1,
              "#f0f921"
             ]
            ],
            "type": "heatmapgl"
           }
          ],
          "histogram": [
           {
            "marker": {
             "pattern": {
              "fillmode": "overlay",
              "size": 10,
              "solidity": 0.2
             }
            },
            "type": "histogram"
           }
          ],
          "histogram2d": [
           {
            "colorbar": {
             "outlinewidth": 0,
             "ticks": ""
            },
            "colorscale": [
             [
              0,
              "#0d0887"
             ],
             [
              0.1111111111111111,
              "#46039f"
             ],
             [
              0.2222222222222222,
              "#7201a8"
             ],
             [
              0.3333333333333333,
              "#9c179e"
             ],
             [
              0.4444444444444444,
              "#bd3786"
             ],
             [
              0.5555555555555556,
              "#d8576b"
             ],
             [
              0.6666666666666666,
              "#ed7953"
             ],
             [
              0.7777777777777778,
              "#fb9f3a"
             ],
             [
              0.8888888888888888,
              "#fdca26"
             ],
             [
              1,
              "#f0f921"
             ]
            ],
            "type": "histogram2d"
           }
          ],
          "histogram2dcontour": [
           {
            "colorbar": {
             "outlinewidth": 0,
             "ticks": ""
            },
            "colorscale": [
             [
              0,
              "#0d0887"
             ],
             [
              0.1111111111111111,
              "#46039f"
             ],
             [
              0.2222222222222222,
              "#7201a8"
             ],
             [
              0.3333333333333333,
              "#9c179e"
             ],
             [
              0.4444444444444444,
              "#bd3786"
             ],
             [
              0.5555555555555556,
              "#d8576b"
             ],
             [
              0.6666666666666666,
              "#ed7953"
             ],
             [
              0.7777777777777778,
              "#fb9f3a"
             ],
             [
              0.8888888888888888,
              "#fdca26"
             ],
             [
              1,
              "#f0f921"
             ]
            ],
            "type": "histogram2dcontour"
           }
          ],
          "mesh3d": [
           {
            "colorbar": {
             "outlinewidth": 0,
             "ticks": ""
            },
            "type": "mesh3d"
           }
          ],
          "parcoords": [
           {
            "line": {
             "colorbar": {
              "outlinewidth": 0,
              "ticks": ""
             }
            },
            "type": "parcoords"
           }
          ],
          "pie": [
           {
            "automargin": true,
            "type": "pie"
           }
          ],
          "scatter": [
           {
            "fillpattern": {
             "fillmode": "overlay",
             "size": 10,
             "solidity": 0.2
            },
            "type": "scatter"
           }
          ],
          "scatter3d": [
           {
            "line": {
             "colorbar": {
              "outlinewidth": 0,
              "ticks": ""
             }
            },
            "marker": {
             "colorbar": {
              "outlinewidth": 0,
              "ticks": ""
             }
            },
            "type": "scatter3d"
           }
          ],
          "scattercarpet": [
           {
            "marker": {
             "colorbar": {
              "outlinewidth": 0,
              "ticks": ""
             }
            },
            "type": "scattercarpet"
           }
          ],
          "scattergeo": [
           {
            "marker": {
             "colorbar": {
              "outlinewidth": 0,
              "ticks": ""
             }
            },
            "type": "scattergeo"
           }
          ],
          "scattergl": [
           {
            "marker": {
             "colorbar": {
              "outlinewidth": 0,
              "ticks": ""
             }
            },
            "type": "scattergl"
           }
          ],
          "scattermapbox": [
           {
            "marker": {
             "colorbar": {
              "outlinewidth": 0,
              "ticks": ""
             }
            },
            "type": "scattermapbox"
           }
          ],
          "scatterpolar": [
           {
            "marker": {
             "colorbar": {
              "outlinewidth": 0,
              "ticks": ""
             }
            },
            "type": "scatterpolar"
           }
          ],
          "scatterpolargl": [
           {
            "marker": {
             "colorbar": {
              "outlinewidth": 0,
              "ticks": ""
             }
            },
            "type": "scatterpolargl"
           }
          ],
          "scatterternary": [
           {
            "marker": {
             "colorbar": {
              "outlinewidth": 0,
              "ticks": ""
             }
            },
            "type": "scatterternary"
           }
          ],
          "surface": [
           {
            "colorbar": {
             "outlinewidth": 0,
             "ticks": ""
            },
            "colorscale": [
             [
              0,
              "#0d0887"
             ],
             [
              0.1111111111111111,
              "#46039f"
             ],
             [
              0.2222222222222222,
              "#7201a8"
             ],
             [
              0.3333333333333333,
              "#9c179e"
             ],
             [
              0.4444444444444444,
              "#bd3786"
             ],
             [
              0.5555555555555556,
              "#d8576b"
             ],
             [
              0.6666666666666666,
              "#ed7953"
             ],
             [
              0.7777777777777778,
              "#fb9f3a"
             ],
             [
              0.8888888888888888,
              "#fdca26"
             ],
             [
              1,
              "#f0f921"
             ]
            ],
            "type": "surface"
           }
          ],
          "table": [
           {
            "cells": {
             "fill": {
              "color": "#EBF0F8"
             },
             "line": {
              "color": "white"
             }
            },
            "header": {
             "fill": {
              "color": "#C8D4E3"
             },
             "line": {
              "color": "white"
             }
            },
            "type": "table"
           }
          ]
         },
         "layout": {
          "annotationdefaults": {
           "arrowcolor": "#2a3f5f",
           "arrowhead": 0,
           "arrowwidth": 1
          },
          "autotypenumbers": "strict",
          "coloraxis": {
           "colorbar": {
            "outlinewidth": 0,
            "ticks": ""
           }
          },
          "colorscale": {
           "diverging": [
            [
             0,
             "#8e0152"
            ],
            [
             0.1,
             "#c51b7d"
            ],
            [
             0.2,
             "#de77ae"
            ],
            [
             0.3,
             "#f1b6da"
            ],
            [
             0.4,
             "#fde0ef"
            ],
            [
             0.5,
             "#f7f7f7"
            ],
            [
             0.6,
             "#e6f5d0"
            ],
            [
             0.7,
             "#b8e186"
            ],
            [
             0.8,
             "#7fbc41"
            ],
            [
             0.9,
             "#4d9221"
            ],
            [
             1,
             "#276419"
            ]
           ],
           "sequential": [
            [
             0,
             "#0d0887"
            ],
            [
             0.1111111111111111,
             "#46039f"
            ],
            [
             0.2222222222222222,
             "#7201a8"
            ],
            [
             0.3333333333333333,
             "#9c179e"
            ],
            [
             0.4444444444444444,
             "#bd3786"
            ],
            [
             0.5555555555555556,
             "#d8576b"
            ],
            [
             0.6666666666666666,
             "#ed7953"
            ],
            [
             0.7777777777777778,
             "#fb9f3a"
            ],
            [
             0.8888888888888888,
             "#fdca26"
            ],
            [
             1,
             "#f0f921"
            ]
           ],
           "sequentialminus": [
            [
             0,
             "#0d0887"
            ],
            [
             0.1111111111111111,
             "#46039f"
            ],
            [
             0.2222222222222222,
             "#7201a8"
            ],
            [
             0.3333333333333333,
             "#9c179e"
            ],
            [
             0.4444444444444444,
             "#bd3786"
            ],
            [
             0.5555555555555556,
             "#d8576b"
            ],
            [
             0.6666666666666666,
             "#ed7953"
            ],
            [
             0.7777777777777778,
             "#fb9f3a"
            ],
            [
             0.8888888888888888,
             "#fdca26"
            ],
            [
             1,
             "#f0f921"
            ]
           ]
          },
          "colorway": [
           "#636efa",
           "#EF553B",
           "#00cc96",
           "#ab63fa",
           "#FFA15A",
           "#19d3f3",
           "#FF6692",
           "#B6E880",
           "#FF97FF",
           "#FECB52"
          ],
          "font": {
           "color": "#2a3f5f"
          },
          "geo": {
           "bgcolor": "white",
           "lakecolor": "white",
           "landcolor": "#E5ECF6",
           "showlakes": true,
           "showland": true,
           "subunitcolor": "white"
          },
          "hoverlabel": {
           "align": "left"
          },
          "hovermode": "closest",
          "mapbox": {
           "style": "light"
          },
          "paper_bgcolor": "white",
          "plot_bgcolor": "#E5ECF6",
          "polar": {
           "angularaxis": {
            "gridcolor": "white",
            "linecolor": "white",
            "ticks": ""
           },
           "bgcolor": "#E5ECF6",
           "radialaxis": {
            "gridcolor": "white",
            "linecolor": "white",
            "ticks": ""
           }
          },
          "scene": {
           "xaxis": {
            "backgroundcolor": "#E5ECF6",
            "gridcolor": "white",
            "gridwidth": 2,
            "linecolor": "white",
            "showbackground": true,
            "ticks": "",
            "zerolinecolor": "white"
           },
           "yaxis": {
            "backgroundcolor": "#E5ECF6",
            "gridcolor": "white",
            "gridwidth": 2,
            "linecolor": "white",
            "showbackground": true,
            "ticks": "",
            "zerolinecolor": "white"
           },
           "zaxis": {
            "backgroundcolor": "#E5ECF6",
            "gridcolor": "white",
            "gridwidth": 2,
            "linecolor": "white",
            "showbackground": true,
            "ticks": "",
            "zerolinecolor": "white"
           }
          },
          "shapedefaults": {
           "line": {
            "color": "#2a3f5f"
           }
          },
          "ternary": {
           "aaxis": {
            "gridcolor": "white",
            "linecolor": "white",
            "ticks": ""
           },
           "baxis": {
            "gridcolor": "white",
            "linecolor": "white",
            "ticks": ""
           },
           "bgcolor": "#E5ECF6",
           "caxis": {
            "gridcolor": "white",
            "linecolor": "white",
            "ticks": ""
           }
          },
          "title": {
           "x": 0.05
          },
          "xaxis": {
           "automargin": true,
           "gridcolor": "white",
           "linecolor": "white",
           "ticks": "",
           "title": {
            "standoff": 15
           },
           "zerolinecolor": "white",
           "zerolinewidth": 2
          },
          "yaxis": {
           "automargin": true,
           "gridcolor": "white",
           "linecolor": "white",
           "ticks": "",
           "title": {
            "standoff": 15
           },
           "zerolinecolor": "white",
           "zerolinewidth": 2
          }
         }
        },
        "title": {
         "text": "Average Sentiment of Song Titles Over Time"
        },
        "xaxis": {
         "anchor": "y",
         "autorange": true,
         "domain": [
          0,
          1
         ],
         "range": [
          1996.668806466952,
          2021.331193533048
         ],
         "title": {
          "text": "year"
         },
         "type": "linear"
        },
        "yaxis": {
         "anchor": "x",
         "autorange": true,
         "domain": [
          0,
          1
         ],
         "range": [
          3.3874898867313914,
          5.122926779935275
         ],
         "title": {
          "text": "sentiment_score"
         },
         "type": "linear"
        }
       }
      },
      "image/png": "[encoded data removed]",
      "text/html": [
       "<div>                            <div id=\"b5fd8034-5de8-436d-b24a-6ce75d1144e7\" class=\"plotly-graph-div\" style=\"height:525px; width:100%;\"></div>            <script type=\"text/javascript\">                require([\"plotly\"], function(Plotly) {                    window.PLOTLYENV=window.PLOTLYENV || {};                                    if (document.getElementById(\"b5fd8034-5de8-436d-b24a-6ce75d1144e7\")) {                    Plotly.newPlot(                        \"b5fd8034-5de8-436d-b24a-6ce75d1144e7\",                        [{\"hovertemplate\":\"year=%{x}\\u003cbr\\u003esentiment_score=%{y}\\u003cextra\\u003e\\u003c\\u002fextra\\u003e\",\"legendgroup\":\"\",\"line\":{\"color\":\"#636efa\",\"dash\":\"solid\"},\"marker\":{\"symbol\":\"circle\"},\"mode\":\"lines+markers\",\"name\":\"\",\"orientation\":\"v\",\"showlegend\":false,\"x\":[1998,1999,2000,2001,2002,2003,2004,2005,2006,2007,2008,2009,2010,2011,2012,2013,2014,2015,2016,2017,2018,2019,2020],\"xaxis\":\"x\",\"y\":[5.0,3.6842105263157894,3.8378378378378377,3.824074074074074,3.9555555555555557,3.597938144329897,3.5104166666666665,3.855769230769231,3.9157894736842107,3.7872340425531914,3.7628865979381443,3.869047619047619,3.691588785046729,4.111111111111111,4.060869565217391,3.595505617977528,3.730769230769231,4.05050505050505,4.08080808080808,3.720720720720721,3.9906542056074765,3.9213483146067416,4.666666666666667],\"yaxis\":\"y\",\"type\":\"scatter\"}],                        {\"template\":{\"data\":{\"histogram2dcontour\":[{\"type\":\"histogram2dcontour\",\"colorbar\":{\"outlinewidth\":0,\"ticks\":\"\"},\"colorscale\":[[0.0,\"#0d0887\"],[0.1111111111111111,\"#46039f\"],[0.2222222222222222,\"#7201a8\"],[0.3333333333333333,\"#9c179e\"],[0.4444444444444444,\"#bd3786\"],[0.5555555555555556,\"#d8576b\"],[0.6666666666666666,\"#ed7953\"],[0.7777777777777778,\"#fb9f3a\"],[0.8888888888888888,\"#fdca26\"],[1.0,\"#f0f921\"]]}],\"choropleth\":[{\"type\":\"choropleth\",\"colorbar\":{\"outlinewidth\":0,\"ticks\":\"\"}}],\"histogram2d\":[{\"type\":\"histogram2d\",\"colorbar\":{\"outlinewidth\":0,\"ticks\":\"\"},\"colorscale\":[[0.0,\"#0d0887\"],[0.1111111111111111,\"#46039f\"],[0.2222222222222222,\"#7201a8\"],[0.3333333333333333,\"#9c179e\"],[0.4444444444444444,\"#bd3786\"],[0.5555555555555556,\"#d8576b\"],[0.6666666666666666,\"#ed7953\"],[0.7777777777777778,\"#fb9f3a\"],[0.8888888888888888,\"#fdca26\"],[1.0,\"#f0f921\"]]}],\"heatmap\":[{\"type\":\"heatmap\",\"colorbar\":{\"outlinewidth\":0,\"ticks\":\"\"},\"colorscale\":[[0.0,\"#0d0887\"],[0.1111111111111111,\"#46039f\"],[0.2222222222222222,\"#7201a8\"],[0.3333333333333333,\"#9c179e\"],[0.4444444444444444,\"#bd3786\"],[0.5555555555555556,\"#d8576b\"],[0.6666666666666666,\"#ed7953\"],[0.7777777777777778,\"#fb9f3a\"],[0.8888888888888888,\"#fdca26\"],[1.0,\"#f0f921\"]]}],\"heatmapgl\":[{\"type\":\"heatmapgl\",\"colorbar\":{\"outlinewidth\":0,\"ticks\":\"\"},\"colorscale\":[[0.0,\"#0d0887\"],[0.1111111111111111,\"#46039f\"],[0.2222222222222222,\"#7201a8\"],[0.3333333333333333,\"#9c179e\"],[0.4444444444444444,\"#bd3786\"],[0.5555555555555556,\"#d8576b\"],[0.6666666666666666,\"#ed7953\"],[0.7777777777777778,\"#fb9f3a\"],[0.8888888888888888,\"#fdca26\"],[1.0,\"#f0f921\"]]}],\"contourcarpet\":[{\"type\":\"contourcarpet\",\"colorbar\":{\"outlinewidth\":0,\"ticks\":\"\"}}],\"contour\":[{\"type\":\"contour\",\"colorbar\":{\"outlinewidth\":0,\"ticks\":\"\"},\"colorscale\":[[0.0,\"#0d0887\"],[0.1111111111111111,\"#46039f\"],[0.2222222222222222,\"#7201a8\"],[0.3333333333333333,\"#9c179e\"],[0.4444444444444444,\"#bd3786\"],[0.5555555555555556,\"#d8576b\"],[0.6666666666666666,\"#ed7953\"],[0.7777777777777778,\"#fb9f3a\"],[0.8888888888888888,\"#fdca26\"],[1.0,\"#f0f921\"]]}],\"surface\":[{\"type\":\"surface\",\"colorbar\":{\"outlinewidth\":0,\"ticks\":\"\"},\"colorscale\":[[0.0,\"#0d0887\"],[0.1111111111111111,\"#46039f\"],[0.2222222222222222,\"#7201a8\"],[0.3333333333333333,\"#9c179e\"],[0.4444444444444444,\"#bd3786\"],[0.5555555555555556,\"#d8576b\"],[0.6666666666666666,\"#ed7953\"],[0.7777777777777778,\"#fb9f3a\"],[0.8888888888888888,\"#fdca26\"],[1.0,\"#f0f921\"]]}],\"mesh3d\":[{\"type\":\"mesh3d\",\"colorbar\":{\"outlinewidth\":0,\"ticks\":\"\"}}],\"scatter\":[{\"fillpattern\":{\"fillmode\":\"overlay\",\"size\":10,\"solidity\":0.2},\"type\":\"scatter\"}],\"parcoords\":[{\"type\":\"parcoords\",\"line\":{\"colorbar\":{\"outlinewidth\":0,\"ticks\":\"\"}}}],\"scatterpolargl\":[{\"type\":\"scatterpolargl\",\"marker\":{\"colorbar\":{\"outlinewidth\":0,\"ticks\":\"\"}}}],\"bar\":[{\"error_x\":{\"color\":\"#2a3f5f\"},\"error_y\":{\"color\":\"#2a3f5f\"},\"marker\":{\"line\":{\"color\":\"#E5ECF6\",\"width\":0.5},\"pattern\":{\"fillmode\":\"overlay\",\"size\":10,\"solidity\":0.2}},\"type\":\"bar\"}],\"scattergeo\":[{\"type\":\"scattergeo\",\"marker\":{\"colorbar\":{\"outlinewidth\":0,\"ticks\":\"\"}}}],\"scatterpolar\":[{\"type\":\"scatterpolar\",\"marker\":{\"colorbar\":{\"outlinewidth\":0,\"ticks\":\"\"}}}],\"histogram\":[{\"marker\":{\"pattern\":{\"fillmode\":\"overlay\",\"size\":10,\"solidity\":0.2}},\"type\":\"histogram\"}],\"scattergl\":[{\"type\":\"scattergl\",\"marker\":{\"colorbar\":{\"outlinewidth\":0,\"ticks\":\"\"}}}],\"scatter3d\":[{\"type\":\"scatter3d\",\"line\":{\"colorbar\":{\"outlinewidth\":0,\"ticks\":\"\"}},\"marker\":{\"colorbar\":{\"outlinewidth\":0,\"ticks\":\"\"}}}],\"scattermapbox\":[{\"type\":\"scattermapbox\",\"marker\":{\"colorbar\":{\"outlinewidth\":0,\"ticks\":\"\"}}}],\"scatterternary\":[{\"type\":\"scatterternary\",\"marker\":{\"colorbar\":{\"outlinewidth\":0,\"ticks\":\"\"}}}],\"scattercarpet\":[{\"type\":\"scattercarpet\",\"marker\":{\"colorbar\":{\"outlinewidth\":0,\"ticks\":\"\"}}}],\"carpet\":[{\"aaxis\":{\"endlinecolor\":\"#2a3f5f\",\"gridcolor\":\"white\",\"linecolor\":\"white\",\"minorgridcolor\":\"white\",\"startlinecolor\":\"#2a3f5f\"},\"baxis\":{\"endlinecolor\":\"#2a3f5f\",\"gridcolor\":\"white\",\"linecolor\":\"white\",\"minorgridcolor\":\"white\",\"startlinecolor\":\"#2a3f5f\"},\"type\":\"carpet\"}],\"table\":[{\"cells\":{\"fill\":{\"color\":\"#EBF0F8\"},\"line\":{\"color\":\"white\"}},\"header\":{\"fill\":{\"color\":\"#C8D4E3\"},\"line\":{\"color\":\"white\"}},\"type\":\"table\"}],\"barpolar\":[{\"marker\":{\"line\":{\"color\":\"#E5ECF6\",\"width\":0.5},\"pattern\":{\"fillmode\":\"overlay\",\"size\":10,\"solidity\":0.2}},\"type\":\"barpolar\"}],\"pie\":[{\"automargin\":true,\"type\":\"pie\"}]},\"layout\":{\"autotypenumbers\":\"strict\",\"colorway\":[\"#636efa\",\"#EF553B\",\"#00cc96\",\"#ab63fa\",\"#FFA15A\",\"#19d3f3\",\"#FF6692\",\"#B6E880\",\"#FF97FF\",\"#FECB52\"],\"font\":{\"color\":\"#2a3f5f\"},\"hovermode\":\"closest\",\"hoverlabel\":{\"align\":\"left\"},\"paper_bgcolor\":\"white\",\"plot_bgcolor\":\"#E5ECF6\",\"polar\":{\"bgcolor\":\"#E5ECF6\",\"angularaxis\":{\"gridcolor\":\"white\",\"linecolor\":\"white\",\"ticks\":\"\"},\"radialaxis\":{\"gridcolor\":\"white\",\"linecolor\":\"white\",\"ticks\":\"\"}},\"ternary\":{\"bgcolor\":\"#E5ECF6\",\"aaxis\":{\"gridcolor\":\"white\",\"linecolor\":\"white\",\"ticks\":\"\"},\"baxis\":{\"gridcolor\":\"white\",\"linecolor\":\"white\",\"ticks\":\"\"},\"caxis\":{\"gridcolor\":\"white\",\"linecolor\":\"white\",\"ticks\":\"\"}},\"coloraxis\":{\"colorbar\":{\"outlinewidth\":0,\"ticks\":\"\"}},\"colorscale\":{\"sequential\":[[0.0,\"#0d0887\"],[0.1111111111111111,\"#46039f\"],[0.2222222222222222,\"#7201a8\"],[0.3333333333333333,\"#9c179e\"],[0.4444444444444444,\"#bd3786\"],[0.5555555555555556,\"#d8576b\"],[0.6666666666666666,\"#ed7953\"],[0.7777777777777778,\"#fb9f3a\"],[0.8888888888888888,\"#fdca26\"],[1.0,\"#f0f921\"]],\"sequentialminus\":[[0.0,\"#0d0887\"],[0.1111111111111111,\"#46039f\"],[0.2222222222222222,\"#7201a8\"],[0.3333333333333333,\"#9c179e\"],[0.4444444444444444,\"#bd3786\"],[0.5555555555555556,\"#d8576b\"],[0.6666666666666666,\"#ed7953\"],[0.7777777777777778,\"#fb9f3a\"],[0.8888888888888888,\"#fdca26\"],[1.0,\"#f0f921\"]],\"diverging\":[[0,\"#8e0152\"],[0.1,\"#c51b7d\"],[0.2,\"#de77ae\"],[0.3,\"#f1b6da\"],[0.4,\"#fde0ef\"],[0.5,\"#f7f7f7\"],[0.6,\"#e6f5d0\"],[0.7,\"#b8e186\"],[0.8,\"#7fbc41\"],[0.9,\"#4d9221\"],[1,\"#276419\"]]},\"xaxis\":{\"gridcolor\":\"white\",\"linecolor\":\"white\",\"ticks\":\"\",\"title\":{\"standoff\":15},\"zerolinecolor\":\"white\",\"automargin\":true,\"zerolinewidth\":2},\"yaxis\":{\"gridcolor\":\"white\",\"linecolor\":\"white\",\"ticks\":\"\",\"title\":{\"standoff\":15},\"zerolinecolor\":\"white\",\"automargin\":true,\"zerolinewidth\":2},\"scene\":{\"xaxis\":{\"backgroundcolor\":\"#E5ECF6\",\"gridcolor\":\"white\",\"linecolor\":\"white\",\"showbackground\":true,\"ticks\":\"\",\"zerolinecolor\":\"white\",\"gridwidth\":2},\"yaxis\":{\"backgroundcolor\":\"#E5ECF6\",\"gridcolor\":\"white\",\"linecolor\":\"white\",\"showbackground\":true,\"ticks\":\"\",\"zerolinecolor\":\"white\",\"gridwidth\":2},\"zaxis\":{\"backgroundcolor\":\"#E5ECF6\",\"gridcolor\":\"white\",\"linecolor\":\"white\",\"showbackground\":true,\"ticks\":\"\",\"zerolinecolor\":\"white\",\"gridwidth\":2}},\"shapedefaults\":{\"line\":{\"color\":\"#2a3f5f\"}},\"annotationdefaults\":{\"arrowcolor\":\"#2a3f5f\",\"arrowhead\":0,\"arrowwidth\":1},\"geo\":{\"bgcolor\":\"white\",\"landcolor\":\"#E5ECF6\",\"subunitcolor\":\"white\",\"showland\":true,\"showlakes\":true,\"lakecolor\":\"white\"},\"title\":{\"x\":0.05},\"mapbox\":{\"style\":\"light\"}}},\"xaxis\":{\"anchor\":\"y\",\"domain\":[0.0,1.0],\"title\":{\"text\":\"year\"}},\"yaxis\":{\"anchor\":\"x\",\"domain\":[0.0,1.0],\"title\":{\"text\":\"sentiment_score\"}},\"legend\":{\"tracegroupgap\":0},\"title\":{\"text\":\"Average Sentiment of Song Titles Over Time\"}},                        {\"responsive\": true}                    ).then(function(){\n",
       "                            \n",
       "var gd = document.getElementById('b5fd8034-5de8-436d-b24a-6ce75d1144e7');\n",
       "var x = new MutationObserver(function (mutations, observer) {{\n",
       "        var display = window.getComputedStyle(gd).display;\n",
       "        if (!display || display === 'none') {{\n",
       "            console.log([gd, 'removed!']);\n",
       "            Plotly.purge(gd);\n",
       "            observer.disconnect();\n",
       "        }}\n",
       "}});\n",
       "\n",
       "// Listen for the removal of the full notebook cells\n",
       "var notebookContainer = gd.closest('#notebook-container');\n",
       "if (notebookContainer) {{\n",
       "    x.observe(notebookContainer, {childList: true});\n",
       "}}\n",
       "\n",
       "// Listen for the clearing of the current output cell\n",
       "var outputEl = gd.closest('.output');\n",
       "if (outputEl) {{\n",
       "    x.observe(outputEl, {childList: true});\n",
       "}}\n",
       "\n",
       "                        })                };                });            </script>        </div>"
      ]
     },
     "metadata": {},
     "output_type": "display_data"
    }
   ],
   "source": [
    "import pandas as pd\n",
    "import plotly.express as px\n",
    "import seaborn as sns\n",
    "import matplotlib.pyplot as plt\n",
    "from IPython.display import display\n",
    "\n",
    "# Load dataset\n",
    "try:\n",
    "    df = pd.read_csv(\"songs_with_sentiment.csv\")\n",
    "except FileNotFoundError:\n",
    "    print(\"Error: 'songs_with_sentiment.csv' not found. Ensure the file is in the same directory.\")\n",
    "    exit()\n",
    "\n",
    "# Ensure sentiment_score exists\n",
    "if \"sentiment_score\" not in df.columns:\n",
    "    raise ValueError(\"⚠️ Please run Task 3 first to generate the 'sentiment_score' column!\")\n",
    "\n",
    "# Ensure correlation columns exist\n",
    "correlation_columns = ['popularity', 'tempo', 'energy', 'danceability', 'valence', 'liveness', 'acousticness', 'speechiness']\n",
    "missing_columns = [col for col in correlation_columns if col not in df.columns]\n",
    "if missing_columns:\n",
    "    raise ValueError(f\"⚠️ Missing columns in dataset: {missing_columns}\")\n",
    "\n",
    "# =============================\n",
    "# Visualization 1: Number of Songs for Top 20 Artists\n",
    "# =============================\n",
    "# Count the number of songs per artist and select top 20\n",
    "top_artists = df['artist'].value_counts().head(20)\n",
    "\n",
    "# Create bar plot with updated seaborn syntax to avoid FutureWarning\n",
    "plt.figure(figsize=(10, 5))\n",
    "sns.barplot(x=top_artists.index, y=top_artists.values, hue=top_artists.index, palette='viridis', legend=False)\n",
    "plt.xlabel('Artist')\n",
    "plt.ylabel('Count')\n",
    "plt.title('Number of Songs for Top 20 Artists')\n",
    "plt.xticks(rotation=90)\n",
    "plt.tight_layout()  # Adjust layout to prevent label cutoff\n",
    "plt.show()\n",
    "\n",
    "# =============================\n",
    "# Visualization 2: Correlation Matrix of Song Popularity and Attributes\n",
    "# =============================\n",
    "# Calculate correlation matrix\n",
    "correlation_matrix = df[correlation_columns].corr()\n",
    "\n",
    "# Create heatmap\n",
    "plt.figure(figsize=(10, 8))\n",
    "sns.heatmap(correlation_matrix, annot=True, cmap='coolwarm', fmt='.2f')\n",
    "plt.title('Correlation Matrix of Song Popularity and Attributes')\n",
    "plt.show()\n",
    "\n",
    "# =============================\n",
    "# Visualization 3: Sentiment Trend Over Time\n",
    "# =============================\n",
    "sentiment_by_year = df.groupby(\"year\")[\"sentiment_score\"].mean().reset_index()\n",
    "\n",
    "fig3 = px.line(\n",
    "    sentiment_by_year,\n",
    "    x=\"year\",\n",
    "    y=\"sentiment_score\",\n",
    "    title=\"Average Sentiment of Song Titles Over Time\",\n",
    "    markers=True\n",
    ")\n",
    "fig3.show()"
   ]
  },
  {
   "cell_type": "code",
   "execution_count": null,
   "id": "2fdc2a50-230a-4adf-8145-e2eecf481b6c",
   "metadata": {},
   "outputs": [],
   "source": []
  },
  {
   "cell_type": "code",
   "execution_count": null,
   "id": "b293c1cd-7616-4759-9174-e27c768bae2a",
   "metadata": {},
   "outputs": [],
   "source": []
  }
 ],
 "metadata": {
  "kernelspec": {
   "display_name": "Python [conda env:base] *",
   "language": "python",
   "name": "conda-base-py"
  },
  "language_info": {
   "codemirror_mode": {
    "name": "ipython",
    "version": 3
   },
   "file_extension": ".py",
   "mimetype": "text/x-python",
   "name": "python",
   "nbconvert_exporter": "python",
   "pygments_lexer": "ipython3",
   "version": "3.12.7"
  }
 },
 "nbformat": 4,
 "nbformat_minor": 5
}
